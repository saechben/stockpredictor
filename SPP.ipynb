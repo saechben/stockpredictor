{
 "cells": [
  {
   "cell_type": "code",
   "execution_count": 11,
   "metadata": {},
   "outputs": [
    {
     "ename": "ModuleNotFoundError",
     "evalue": "No module named 'tensoflow'",
     "output_type": "error",
     "traceback": [
      "\u001b[1;31m---------------------------------------------------------------------------\u001b[0m",
      "\u001b[1;31mModuleNotFoundError\u001b[0m                       Traceback (most recent call last)",
      "\u001b[1;32m~\\AppData\\Local\\Temp\\ipykernel_11136\\109419664.py\u001b[0m in \u001b[0;36m<module>\u001b[1;34m\u001b[0m\n\u001b[0;32m      6\u001b[0m \u001b[1;32mimport\u001b[0m \u001b[0mos\u001b[0m\u001b[1;33m\u001b[0m\u001b[1;33m\u001b[0m\u001b[0m\n\u001b[0;32m      7\u001b[0m \u001b[1;32mfrom\u001b[0m \u001b[0msklearn\u001b[0m\u001b[1;33m.\u001b[0m\u001b[0mpreprocessing\u001b[0m \u001b[1;32mimport\u001b[0m \u001b[0mMinMaxScaler\u001b[0m\u001b[1;33m,\u001b[0m\u001b[0mStandardScaler\u001b[0m\u001b[1;33m\u001b[0m\u001b[1;33m\u001b[0m\u001b[0m\n\u001b[1;32m----> 8\u001b[1;33m \u001b[1;32mimport\u001b[0m \u001b[0mtensoflow\u001b[0m \u001b[1;32mas\u001b[0m \u001b[0mtf\u001b[0m\u001b[1;33m\u001b[0m\u001b[1;33m\u001b[0m\u001b[0m\n\u001b[0m",
      "\u001b[1;31mModuleNotFoundError\u001b[0m: No module named 'tensoflow'"
     ]
    }
   ],
   "source": [
    "#imports\n",
    "import numpy as np\n",
    "import pandas as pd\n",
    "from pathlib import Path\n",
    "import glob\n",
    "import os \n",
    "from sklearn.preprocessing import MinMaxScaler,StandardScaler\n"
   ]
  },
  {
   "cell_type": "code",
   "execution_count": 18,
   "metadata": {},
   "outputs": [],
   "source": [
    "#loading dataset using panda \n",
    "#this loads one specific csv file\n",
    "#dataset = pd.read_csv(r'C:\\Users\\benja\\OneDrive\\Dokumente\\Wichtiges\\Projects\\stock_price_predictor\\dataset\\archive\\Data\\ETFs\\aadr.us.txt')\n",
    "#dataset.head()\n",
    "#recursively load all csv files into a list\n",
    "#sets my working directory so the glob can fetch all the files\n",
    "os.chdir(r'C:\\Users\\Admin\\OneDrive\\Dokumente\\Wichtiges\\Projects\\stock_price_predictor\\dataset\\archive\\Data')\n",
    "file_list = glob.glob('**/*.*',recursive=True)\n",
    "\"\"\"\"\"\n",
    "dataset = pd.read_csv(file_list[0],delimiter=',',header=0)\n",
    "print(dataset.info)\n",
    "dataset2 = pd.read_csv(file_list[1],delimiter=',',header=0)\n",
    "print(dataset2.info)\n",
    "result = pd.concat([dataset.reset_index(drop=True),dataset2.reset_index(drop=True)])\n",
    "print(result)\n",
    "\"\"\"\n",
    "dataset = pd.DataFrame()\n",
    "#merges every dataframe in one big dataframe\n",
    "\"\"\"\"\"\n",
    "for file in file_list:\n",
    "    if(os.stat(file).st_size!=0):\n",
    "        temp = pd.read_csv(file,sep=',',header=0)\n",
    "        dataset = pd.concat([dataset.reset_index(drop=True),temp.reset_index(drop=True)])\n",
    "print(dataset)\n",
    "\"\"\"\n",
    "#merges every dataframe in one big dataframe and check for empty files\n",
    "for file in file_list:\n",
    "    if(os.stat(file).st_size!=0):\n",
    "        temp = pd.read_csv(file,sep=',',header=0)\n",
    "        dataset = pd.concat([dataset.reset_index(drop=True),temp.reset_index(drop=True)])\n"
   ]
  },
  {
   "cell_type": "code",
   "execution_count": 20,
   "metadata": {},
   "outputs": [
    {
     "data": {
      "text/html": [
       "<div>\n",
       "<style scoped>\n",
       "    .dataframe tbody tr th:only-of-type {\n",
       "        vertical-align: middle;\n",
       "    }\n",
       "\n",
       "    .dataframe tbody tr th {\n",
       "        vertical-align: top;\n",
       "    }\n",
       "\n",
       "    .dataframe thead th {\n",
       "        text-align: right;\n",
       "    }\n",
       "</style>\n",
       "<table border=\"1\" class=\"dataframe\">\n",
       "  <thead>\n",
       "    <tr style=\"text-align: right;\">\n",
       "      <th></th>\n",
       "      <th>Date</th>\n",
       "      <th>Open</th>\n",
       "      <th>High</th>\n",
       "      <th>Low</th>\n",
       "      <th>Close</th>\n",
       "      <th>Volume</th>\n",
       "      <th>OpenInt</th>\n",
       "    </tr>\n",
       "  </thead>\n",
       "  <tbody>\n",
       "    <tr>\n",
       "      <th>0</th>\n",
       "      <td>2010-07-21</td>\n",
       "      <td>24.333</td>\n",
       "      <td>24.333</td>\n",
       "      <td>23.946</td>\n",
       "      <td>23.946</td>\n",
       "      <td>43321</td>\n",
       "      <td>0</td>\n",
       "    </tr>\n",
       "    <tr>\n",
       "      <th>1</th>\n",
       "      <td>2010-07-22</td>\n",
       "      <td>24.644</td>\n",
       "      <td>24.644</td>\n",
       "      <td>24.362</td>\n",
       "      <td>24.487</td>\n",
       "      <td>18031</td>\n",
       "      <td>0</td>\n",
       "    </tr>\n",
       "    <tr>\n",
       "      <th>2</th>\n",
       "      <td>2010-07-23</td>\n",
       "      <td>24.759</td>\n",
       "      <td>24.759</td>\n",
       "      <td>24.314</td>\n",
       "      <td>24.507</td>\n",
       "      <td>8897</td>\n",
       "      <td>0</td>\n",
       "    </tr>\n",
       "    <tr>\n",
       "      <th>3</th>\n",
       "      <td>2010-07-26</td>\n",
       "      <td>24.624</td>\n",
       "      <td>24.624</td>\n",
       "      <td>24.449</td>\n",
       "      <td>24.595</td>\n",
       "      <td>19443</td>\n",
       "      <td>0</td>\n",
       "    </tr>\n",
       "    <tr>\n",
       "      <th>4</th>\n",
       "      <td>2010-07-27</td>\n",
       "      <td>24.477</td>\n",
       "      <td>24.517</td>\n",
       "      <td>24.431</td>\n",
       "      <td>24.517</td>\n",
       "      <td>8456</td>\n",
       "      <td>0</td>\n",
       "    </tr>\n",
       "  </tbody>\n",
       "</table>\n",
       "</div>"
      ],
      "text/plain": [
       "         Date    Open    High     Low   Close  Volume  OpenInt\n",
       "0  2010-07-21  24.333  24.333  23.946  23.946   43321        0\n",
       "1  2010-07-22  24.644  24.644  24.362  24.487   18031        0\n",
       "2  2010-07-23  24.759  24.759  24.314  24.507    8897        0\n",
       "3  2010-07-26  24.624  24.624  24.449  24.595   19443        0\n",
       "4  2010-07-27  24.477  24.517  24.431  24.517    8456        0"
      ]
     },
     "execution_count": 20,
     "metadata": {},
     "output_type": "execute_result"
    }
   ],
   "source": [
    "dataset.head()"
   ]
  },
  {
   "cell_type": "markdown",
   "metadata": {},
   "source": [
    "Data Preprocessing"
   ]
  },
  {
   "cell_type": "code",
   "execution_count": 21,
   "metadata": {},
   "outputs": [],
   "source": [
    "\n",
    "#order the dataset by date --> don't know if this is necessary\n",
    "dataset = dataset.sort_values(by=['Date'])\n",
    "#droping the date column --> not needed\n",
    "dataset = dataset.drop(['Date'],axis=1)\n",
    "#rescale the data to -1-1\n",
    "scaler = MinMaxScaler(feature_range=(-1,1))\n",
    "dataset = scaler.fit_transform(dataset)\n"
   ]
  },
  {
   "cell_type": "code",
   "execution_count": 10,
   "metadata": {},
   "outputs": [],
   "source": [
    "#visualize the data\n",
    "\n",
    "%load_ext tensorboard"
   ]
  },
  {
   "cell_type": "markdown",
   "metadata": {},
   "source": [
    "Splitting data into training, test, validation set"
   ]
  },
  {
   "cell_type": "code",
   "execution_count": 25,
   "metadata": {},
   "outputs": [],
   "source": [
    "#function for splitting the data since the predicted label is always the stock price for of the \"next day\"\n",
    "def split(dataset, n):\n",
    "    x,y = [],[]\n",
    "    for i in range(len(dataset)-n+1):\n",
    "        x.append(dataset[i:i+n,:-1])\n",
    "        y.append(dataset[i+n-1,-1])\n",
    "    return np.array(x),np.array(y) \n",
    "def split_sets(x,y,x_split):\n",
    "    x_train = x[:x_split]\n",
    "    y_train = y[:x_split]\n",
    "    x_test = x[x_split:]\n",
    "    y_test = y[x_split:]\n",
    "    return x_train,y_train,x_test,y_test"
   ]
  },
  {
   "cell_type": "code",
   "execution_count": 24,
   "metadata": {},
   "outputs": [],
   "source": [
    "x,y = split(dataset,2)\n",
    "#define training split --> 80% training, 10% testing, 10% validation\n",
    "training_split = 0.8\n",
    "#get the index where the data should be splitted\n",
    "x_split = int(np.ceil(len(x)*training_split))\n",
    "#split the data into training and testing and validation sets\n",
    "x_train,y_train,x_test,y_test = split_sets(x,y,x_split)\n",
    "#split the testing data into testing and validation sets with 70% testing and 30% validation\n",
    "testing_split = 0.7\n",
    "x_split = int(np.ceil(len(x_test)*testing_split))\n",
    "x_test,y_test,x_val,y_val = split_sets(x_test,y_test,x_split)\n"
   ]
  }
 ],
 "metadata": {
  "kernelspec": {
   "display_name": "Python 3.7.13 ('oldenvSPP')",
   "language": "python",
   "name": "python3"
  },
  "language_info": {
   "codemirror_mode": {
    "name": "ipython",
    "version": 3
   },
   "file_extension": ".py",
   "mimetype": "text/x-python",
   "name": "python",
   "nbconvert_exporter": "python",
   "pygments_lexer": "ipython3",
   "version": "3.7.13"
  },
  "orig_nbformat": 4,
  "vscode": {
   "interpreter": {
    "hash": "b291799f6606bb81e426db0302226367a5ab9cddbd0310f5985eed57b9a89cc7"
   }
  }
 },
 "nbformat": 4,
 "nbformat_minor": 2
}
